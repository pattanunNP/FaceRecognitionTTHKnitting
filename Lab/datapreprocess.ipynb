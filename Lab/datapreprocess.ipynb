{
 "cells": [
  {
   "cell_type": "code",
   "execution_count": 12,
   "source": [
    "import os \n",
    "import random\n",
    "import shutil\n",
    "\n",
    "\n",
    "workdir = '../../RunnerDev/'\n",
    "testingdir = '../../RunnerTestCase/'\n",
    "trainingdir = \"../../RunnerTrainCase/\"\n",
    "\n"
   ],
   "outputs": [],
   "metadata": {}
  },
  {
   "cell_type": "code",
   "execution_count": 9,
   "source": [
    "os.path.isdir(workdir)\n",
    "os.path.isdir(testingdir)"
   ],
   "outputs": [
    {
     "output_type": "execute_result",
     "data": {
      "text/plain": [
       "True"
      ]
     },
     "metadata": {},
     "execution_count": 9
    }
   ],
   "metadata": {}
  },
  {
   "cell_type": "code",
   "execution_count": 13,
   "source": [
    "for dir in os.listdir(workdir):\n",
    "    person_dir = f\"{workdir}{dir}\"\n",
    "    if os.path.isdir(person_dir) and not \".ipynb_checkpoints\" in person_dir:\n",
    "       os.makedirs(f\"{trainingdir}/{dir}\")\n",
    "            \n",
    "            # print(file_path,dis_path)\n",
    "            # try:\n",
    "            #     shutil.move(file_path,dis_path)\n",
    "            # except: pass\n",
    "           "
   ],
   "outputs": [],
   "metadata": {}
  },
  {
   "cell_type": "code",
   "execution_count": null,
   "source": [],
   "outputs": [],
   "metadata": {}
  }
 ],
 "metadata": {
  "orig_nbformat": 4,
  "language_info": {
   "name": "python",
   "version": "3.8.6",
   "mimetype": "text/x-python",
   "codemirror_mode": {
    "name": "ipython",
    "version": 3
   },
   "pygments_lexer": "ipython3",
   "nbconvert_exporter": "python",
   "file_extension": ".py"
  },
  "kernelspec": {
   "name": "python3",
   "display_name": "Python 3.8.6 64-bit ('ai-dev': conda)"
  },
  "interpreter": {
   "hash": "18d85c80ff1576762eead2ac762cc321d3441fb0ed416cdc438792f116e8b07a"
  }
 },
 "nbformat": 4,
 "nbformat_minor": 2
}