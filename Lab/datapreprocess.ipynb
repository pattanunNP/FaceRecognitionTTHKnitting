{
 "cells": [
  {
   "cell_type": "code",
   "execution_count": 12,
   "metadata": {},
   "outputs": [],
   "source": [
    "import os \n",
    "import random\n",
    "import shutil\n",
    "\n",
    "\n",
    "workdir = '../../RunnerDev/'\n",
    "testingdir = '../../RunnerTestCase/'\n",
    "trainingdir = \"../../RunnerTrainCase/\"\n",
    "\n"
   ]
  },
  {
   "cell_type": "code",
   "execution_count": 9,
   "metadata": {},
   "outputs": [
    {
     "data": {
      "text/plain": [
       "True"
      ]
     },
     "execution_count": 9,
     "metadata": {},
     "output_type": "execute_result"
    }
   ],
   "source": [
    "os.path.isdir(workdir)\n",
    "os.path.isdir(testingdir)"
   ]
  },
  {
   "cell_type": "code",
   "execution_count": 13,
   "metadata": {},
   "outputs": [],
   "source": [
    "for dir in os.listdir(workdir):\n",
    "    person_dir = f\"{workdir}{dir}\"\n",
    "    if os.path.isdir(person_dir) and not \".ipynb_checkpoints\" in person_dir:\n",
    "       os.makedirs(f\"{trainingdir}/{dir}\")\n",
    "            \n",
    "            # print(file_path,dis_path)\n",
    "            # try:\n",
    "            #     shutil.move(file_path,dis_path)\n",
    "            # except: pass\n",
    "           "
   ]
  },
  {
   "cell_type": "code",
   "execution_count": null,
   "metadata": {},
   "outputs": [],
   "source": []
  }
 ],
 "metadata": {
  "kernelspec": {
   "display_name": "Python 3.10.2 64-bit",
   "language": "python",
   "name": "python3"
  },
  "language_info": {
   "codemirror_mode": {
    "name": "ipython",
    "version": 3
   },
   "file_extension": ".py",
   "mimetype": "text/x-python",
   "name": "python",
   "nbconvert_exporter": "python",
   "pygments_lexer": "ipython3",
   "version": "3.10.2"
  },
  "orig_nbformat": 4,
  "vscode": {
   "interpreter": {
    "hash": "7a792fcb311f9eb9f3c1b942a8c87ada8484712b89b670347c16a1088e0a1f69"
   }
  }
 },
 "nbformat": 4,
 "nbformat_minor": 2
}
