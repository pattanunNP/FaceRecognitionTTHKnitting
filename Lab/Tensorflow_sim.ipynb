{
 "cells": [
  {
   "cell_type": "code",
   "execution_count": 1,
   "source": [
    "from tensorflow_similarity.samplers import TFDatasetMultiShotMemorySampler"
   ],
   "outputs": [
    {
     "output_type": "error",
     "ename": "ModuleNotFoundError",
     "evalue": "No module named 'tensorflow_similarity'",
     "traceback": [
      "\u001B[0;31m---------------------------------------------------------------------------\u001B[0m",
      "\u001B[0;31mModuleNotFoundError\u001B[0m                       Traceback (most recent call last)",
      "\u001B[0;32m/var/folders/9h/5ycftbvx0_zd45cqs4bj79z80000gn/T/ipykernel_20844/1206261814.py\u001B[0m in \u001B[0;36m<module>\u001B[0;34m\u001B[0m\n\u001B[0;32m----> 1\u001B[0;31m \u001B[0;32mfrom\u001B[0m \u001B[0mtensorflow_similarity\u001B[0m\u001B[0;34m.\u001B[0m\u001B[0msamplers\u001B[0m \u001B[0;32mimport\u001B[0m \u001B[0mTFDatasetMultiShotMemorySampler\u001B[0m\u001B[0;34m\u001B[0m\u001B[0;34m\u001B[0m\u001B[0m\n\u001B[0m",
      "\u001B[0;31mModuleNotFoundError\u001B[0m: No module named 'tensorflow_similarity'"
     ]
    }
   ],
   "metadata": {
    "pycharm": {
     "name": "#%%\n"
    }
   }
  }
 ],
 "metadata": {
  "orig_nbformat": 4,
  "language_info": {
   "name": "python",
   "version": "3.8.6",
   "mimetype": "text/x-python",
   "codemirror_mode": {
    "name": "ipython",
    "version": 3
   },
   "pygments_lexer": "ipython3",
   "nbconvert_exporter": "python",
   "file_extension": ".py"
  },
  "kernelspec": {
   "name": "python3",
   "display_name": "Python 3.8.6 64-bit ('ai-dev': conda)"
  },
  "interpreter": {
   "hash": "18d85c80ff1576762eead2ac762cc321d3441fb0ed416cdc438792f116e8b07a"
  }
 },
 "nbformat": 4,
 "nbformat_minor": 2
}